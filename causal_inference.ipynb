{
 "cells": [
  {
   "cell_type": "code",
   "execution_count": 2,
   "id": "e13a1092-741e-4ba7-a498-2f84cf26c344",
   "metadata": {},
   "outputs": [],
   "source": [
    "import numpy as np, pandas as pd\n",
    "from pathlib import Path\n",
    "import matplotlib.pyplot as plt\n",
    "\n",
    "from sklearn.linear_model import LogisticRegression, LinearRegression\n",
    "from sklearn.ensemble import RandomForestClassifier\n",
    "from sklearn.model_selection import train_test_split\n",
    "from sklearn.metrics import roc_auc_score\n",
    "\n",
    "import statsmodels.api as sm\n",
    "import statsmodels.formula.api as smf\n",
    "\n",
    "import warnings\n",
    "warnings.filterwarnings(\"ignore\")\n",
    "\n",
    "pd.set_option(\"display.max_columns\", 200)\n",
    "rng = np.random.default_rng(42)"
   ]
  },
  {
   "cell_type": "code",
   "execution_count": 3,
   "id": "188147eb-ef19-4b6a-93ea-8f5f6a1b0780",
   "metadata": {},
   "outputs": [
    {
     "data": {
      "text/html": [
       "<div>\n",
       "<style scoped>\n",
       "    .dataframe tbody tr th:only-of-type {\n",
       "        vertical-align: middle;\n",
       "    }\n",
       "\n",
       "    .dataframe tbody tr th {\n",
       "        vertical-align: top;\n",
       "    }\n",
       "\n",
       "    .dataframe thead th {\n",
       "        text-align: right;\n",
       "    }\n",
       "</style>\n",
       "<table border=\"1\" class=\"dataframe\">\n",
       "  <thead>\n",
       "    <tr style=\"text-align: right;\">\n",
       "      <th></th>\n",
       "      <th>f0</th>\n",
       "      <th>f1</th>\n",
       "      <th>f2</th>\n",
       "      <th>f3</th>\n",
       "      <th>f4</th>\n",
       "      <th>f5</th>\n",
       "      <th>f6</th>\n",
       "      <th>f7</th>\n",
       "      <th>f8</th>\n",
       "      <th>f9</th>\n",
       "      <th>f10</th>\n",
       "      <th>f11</th>\n",
       "      <th>treatment</th>\n",
       "      <th>conversion</th>\n",
       "      <th>visit</th>\n",
       "      <th>exposure</th>\n",
       "    </tr>\n",
       "  </thead>\n",
       "  <tbody>\n",
       "    <tr>\n",
       "      <th>0</th>\n",
       "      <td>12.616365</td>\n",
       "      <td>10.059654</td>\n",
       "      <td>8.976429</td>\n",
       "      <td>4.679882</td>\n",
       "      <td>10.280525</td>\n",
       "      <td>4.115453</td>\n",
       "      <td>0.294443</td>\n",
       "      <td>4.833815</td>\n",
       "      <td>3.955396</td>\n",
       "      <td>13.190056</td>\n",
       "      <td>5.300375</td>\n",
       "      <td>-0.168679</td>\n",
       "      <td>1</td>\n",
       "      <td>0</td>\n",
       "      <td>0</td>\n",
       "      <td>0</td>\n",
       "    </tr>\n",
       "    <tr>\n",
       "      <th>1</th>\n",
       "      <td>12.616365</td>\n",
       "      <td>10.059654</td>\n",
       "      <td>9.002689</td>\n",
       "      <td>4.679882</td>\n",
       "      <td>10.280525</td>\n",
       "      <td>4.115453</td>\n",
       "      <td>0.294443</td>\n",
       "      <td>4.833815</td>\n",
       "      <td>3.955396</td>\n",
       "      <td>13.190056</td>\n",
       "      <td>5.300375</td>\n",
       "      <td>-0.168679</td>\n",
       "      <td>1</td>\n",
       "      <td>0</td>\n",
       "      <td>0</td>\n",
       "      <td>0</td>\n",
       "    </tr>\n",
       "    <tr>\n",
       "      <th>2</th>\n",
       "      <td>12.616365</td>\n",
       "      <td>10.059654</td>\n",
       "      <td>8.964775</td>\n",
       "      <td>4.679882</td>\n",
       "      <td>10.280525</td>\n",
       "      <td>4.115453</td>\n",
       "      <td>0.294443</td>\n",
       "      <td>4.833815</td>\n",
       "      <td>3.955396</td>\n",
       "      <td>13.190056</td>\n",
       "      <td>5.300375</td>\n",
       "      <td>-0.168679</td>\n",
       "      <td>1</td>\n",
       "      <td>0</td>\n",
       "      <td>0</td>\n",
       "      <td>0</td>\n",
       "    </tr>\n",
       "    <tr>\n",
       "      <th>3</th>\n",
       "      <td>12.616365</td>\n",
       "      <td>10.059654</td>\n",
       "      <td>9.002801</td>\n",
       "      <td>4.679882</td>\n",
       "      <td>10.280525</td>\n",
       "      <td>4.115453</td>\n",
       "      <td>0.294443</td>\n",
       "      <td>4.833815</td>\n",
       "      <td>3.955396</td>\n",
       "      <td>13.190056</td>\n",
       "      <td>5.300375</td>\n",
       "      <td>-0.168679</td>\n",
       "      <td>1</td>\n",
       "      <td>0</td>\n",
       "      <td>0</td>\n",
       "      <td>0</td>\n",
       "    </tr>\n",
       "    <tr>\n",
       "      <th>4</th>\n",
       "      <td>12.616365</td>\n",
       "      <td>10.059654</td>\n",
       "      <td>9.037999</td>\n",
       "      <td>4.679882</td>\n",
       "      <td>10.280525</td>\n",
       "      <td>4.115453</td>\n",
       "      <td>0.294443</td>\n",
       "      <td>4.833815</td>\n",
       "      <td>3.955396</td>\n",
       "      <td>13.190056</td>\n",
       "      <td>5.300375</td>\n",
       "      <td>-0.168679</td>\n",
       "      <td>1</td>\n",
       "      <td>0</td>\n",
       "      <td>0</td>\n",
       "      <td>0</td>\n",
       "    </tr>\n",
       "  </tbody>\n",
       "</table>\n",
       "</div>"
      ],
      "text/plain": [
       "          f0         f1        f2        f3         f4        f5        f6  \\\n",
       "0  12.616365  10.059654  8.976429  4.679882  10.280525  4.115453  0.294443   \n",
       "1  12.616365  10.059654  9.002689  4.679882  10.280525  4.115453  0.294443   \n",
       "2  12.616365  10.059654  8.964775  4.679882  10.280525  4.115453  0.294443   \n",
       "3  12.616365  10.059654  9.002801  4.679882  10.280525  4.115453  0.294443   \n",
       "4  12.616365  10.059654  9.037999  4.679882  10.280525  4.115453  0.294443   \n",
       "\n",
       "         f7        f8         f9       f10       f11  treatment  conversion  \\\n",
       "0  4.833815  3.955396  13.190056  5.300375 -0.168679          1           0   \n",
       "1  4.833815  3.955396  13.190056  5.300375 -0.168679          1           0   \n",
       "2  4.833815  3.955396  13.190056  5.300375 -0.168679          1           0   \n",
       "3  4.833815  3.955396  13.190056  5.300375 -0.168679          1           0   \n",
       "4  4.833815  3.955396  13.190056  5.300375 -0.168679          1           0   \n",
       "\n",
       "   visit  exposure  \n",
       "0      0         0  \n",
       "1      0         0  \n",
       "2      0         0  \n",
       "3      0         0  \n",
       "4      0         0  "
      ]
     },
     "execution_count": 3,
     "metadata": {},
     "output_type": "execute_result"
    }
   ],
   "source": [
    "path = Path(\"/Users/ananyashukla/Kaggle/Causal Impact of Product Feature on Retention/criteo-uplift-v2.1.csv\")  # set your file path\n",
    "df = pd.read_csv(path)\n",
    "df.head()"
   ]
  },
  {
   "cell_type": "code",
   "execution_count": 4,
   "id": "56ba0690-9e03-48e9-9394-2a85f5fb78f6",
   "metadata": {},
   "outputs": [
    {
     "data": {
      "text/html": [
       "<div>\n",
       "<style scoped>\n",
       "    .dataframe tbody tr th:only-of-type {\n",
       "        vertical-align: middle;\n",
       "    }\n",
       "\n",
       "    .dataframe tbody tr th {\n",
       "        vertical-align: top;\n",
       "    }\n",
       "\n",
       "    .dataframe thead th {\n",
       "        text-align: right;\n",
       "    }\n",
       "</style>\n",
       "<table border=\"1\" class=\"dataframe\">\n",
       "  <thead>\n",
       "    <tr style=\"text-align: right;\">\n",
       "      <th></th>\n",
       "      <th>abs_SMD</th>\n",
       "      <th>treated_mean</th>\n",
       "      <th>control_mean</th>\n",
       "    </tr>\n",
       "  </thead>\n",
       "  <tbody>\n",
       "    <tr>\n",
       "      <th>f0</th>\n",
       "      <td>0.006866</td>\n",
       "      <td>19.614755</td>\n",
       "      <td>19.651705</td>\n",
       "    </tr>\n",
       "    <tr>\n",
       "      <th>f1</th>\n",
       "      <td>0.023994</td>\n",
       "      <td>10.070337</td>\n",
       "      <td>10.067935</td>\n",
       "    </tr>\n",
       "    <tr>\n",
       "      <th>f10</th>\n",
       "      <td>0.010563</td>\n",
       "      <td>5.333660</td>\n",
       "      <td>5.331898</td>\n",
       "    </tr>\n",
       "    <tr>\n",
       "      <th>f11</th>\n",
       "      <td>0.005160</td>\n",
       "      <td>-0.170985</td>\n",
       "      <td>-0.170868</td>\n",
       "    </tr>\n",
       "    <tr>\n",
       "      <th>f2</th>\n",
       "      <td>0.006241</td>\n",
       "      <td>8.446302</td>\n",
       "      <td>8.448173</td>\n",
       "    </tr>\n",
       "    <tr>\n",
       "      <th>f3</th>\n",
       "      <td>0.048836</td>\n",
       "      <td>4.169412</td>\n",
       "      <td>4.232821</td>\n",
       "    </tr>\n",
       "    <tr>\n",
       "      <th>f4</th>\n",
       "      <td>0.007966</td>\n",
       "      <td>10.339245</td>\n",
       "      <td>10.336526</td>\n",
       "    </tr>\n",
       "    <tr>\n",
       "      <th>f5</th>\n",
       "      <td>0.030557</td>\n",
       "      <td>4.026602</td>\n",
       "      <td>4.039339</td>\n",
       "    </tr>\n",
       "    <tr>\n",
       "      <th>f6</th>\n",
       "      <td>0.040448</td>\n",
       "      <td>-4.182792</td>\n",
       "      <td>-3.999880</td>\n",
       "    </tr>\n",
       "    <tr>\n",
       "      <th>f7</th>\n",
       "      <td>0.021270</td>\n",
       "      <td>5.105555</td>\n",
       "      <td>5.080284</td>\n",
       "    </tr>\n",
       "    <tr>\n",
       "      <th>f8</th>\n",
       "      <td>0.022433</td>\n",
       "      <td>3.933392</td>\n",
       "      <td>3.934652</td>\n",
       "    </tr>\n",
       "    <tr>\n",
       "      <th>f9</th>\n",
       "      <td>0.024001</td>\n",
       "      <td>16.052589</td>\n",
       "      <td>15.886253</td>\n",
       "    </tr>\n",
       "  </tbody>\n",
       "</table>\n",
       "</div>"
      ],
      "text/plain": [
       "      abs_SMD  treated_mean  control_mean\n",
       "f0   0.006866     19.614755     19.651705\n",
       "f1   0.023994     10.070337     10.067935\n",
       "f10  0.010563      5.333660      5.331898\n",
       "f11  0.005160     -0.170985     -0.170868\n",
       "f2   0.006241      8.446302      8.448173\n",
       "f3   0.048836      4.169412      4.232821\n",
       "f4   0.007966     10.339245     10.336526\n",
       "f5   0.030557      4.026602      4.039339\n",
       "f6   0.040448     -4.182792     -3.999880\n",
       "f7   0.021270      5.105555      5.080284\n",
       "f8   0.022433      3.933392      3.934652\n",
       "f9   0.024001     16.052589     15.886253"
      ]
     },
     "execution_count": 4,
     "metadata": {},
     "output_type": "execute_result"
    }
   ],
   "source": [
    "# Covariate balance snapshop (pre-adjustment)\n",
    "\n",
    "def std_diff(a, b):\n",
    "    mu_a, mu_b = a.mean(), b.mean()\n",
    "    s2 = (a.var(ddof=1)+b.var(ddof=1))/2\n",
    "    return 0.0 if s2==0 else (mu_a-mu_b)/np.sqrt(s2)\n",
    "\n",
    "covars = [f\"f{i}\" for i in range(12)]\n",
    "treated, control = df[df.treatment==1], df[df.treatment==0]\n",
    "smd = pd.Series({c: abs(std_diff(treated[c], control[c])) for c in covars}).sort_values(ascending=False)\n",
    "pd.DataFrame({\"abs_SMD\": smd, \"treated_mean\": treated[covars].mean(), \"control_mean\": control[covars].mean()}).head(12)"
   ]
  },
  {
   "cell_type": "code",
   "execution_count": 5,
   "id": "91501ee3-f054-49f3-a77e-41e02ff3686a",
   "metadata": {},
   "outputs": [
    {
     "name": "stdout",
     "output_type": "stream",
     "text": [
      "Propensity AUC: 0.509\n"
     ]
    },
    {
     "data": {
      "image/png": "[encoded data removed]",
      "text/plain": [
       "<Figure size 640x480 with 1 Axes>"
      ]
     },
     "metadata": {},
     "output_type": "display_data"
    }
   ],
   "source": [
    "# Propensity scores (only pre-treatment covariates)\n",
    "\n",
    "X = df[covars].values\n",
    "t = df[\"treatment\"].values\n",
    "\n",
    "ps_model = LogisticRegression(max_iter=2000, solver=\"lbfgs\")\n",
    "ps_model.fit(X, t)\n",
    "ps = ps_model.predict_proba(X)[:,1]\n",
    "df[\"ps\"] = ps\n",
    "\n",
    "print(\"Propensity AUC:\", round(roc_auc_score(t, ps), 3))\n",
    "plt.figure(); \n",
    "plt.hist(ps[df.treatment==1], bins=50, alpha=0.6, density=True, label=\"treated\");\n",
    "plt.hist(ps[df.treatment==0], bins=50, alpha=0.6, density=True, label=\"control\");\n",
    "plt.title(\"Propensity overlap\"); plt.legend(); plt.show();"
   ]
  },
  {
   "cell_type": "code",
   "execution_count": 6,
   "id": "9e7184b7-e0f1-4591-8022-f69d56f66b09",
   "metadata": {},
   "outputs": [
    {
     "data": {
      "text/plain": [
       "((13979592, 17), (13979592, 17))"
      ]
     },
     "execution_count": 6,
     "metadata": {},
     "output_type": "execute_result"
    }
   ],
   "source": [
    "# Overlap trimming\n",
    "\n",
    "trim = (df.ps>=0.05) & (df.ps<=0.95)\n",
    "df_trim = df.loc[trim].copy().reset_index(drop=True)\n",
    "df_trim.shape, df.shape"
   ]
  },
  {
   "cell_type": "code",
   "execution_count": 7,
   "id": "caf9c9f7-5ea2-44a6-bc47-7b02e57e442d",
   "metadata": {},
   "outputs": [
    {
     "name": "stdout",
     "output_type": "stream",
     "text": [
      "{'ATE_IPTW': 0.0009, 'SE': 0.0, 'N': 13979592}\n"
     ]
    }
   ],
   "source": [
    "# IPTW ATE with stabilized weights + robust SE\n",
    "\n",
    "p_t = df_trim[\"treatment\"].mean()\n",
    "eps = 1e-6\n",
    "sw = np.where(df_trim.treatment==1, p_t/(df_trim.ps+eps), (1-p_t)/(1-df_trim.ps+eps))\n",
    "y = df_trim[\"conversion\"].values\n",
    "T = df_trim[\"treatment\"].values\n",
    "\n",
    "Xw = sm.add_constant(T)\n",
    "wls = sm.WLS(y, Xw, weights=sw)\n",
    "res = wls.fit(cov_type=\"HC1\")\n",
    "ate = res.params[1]; se = res.bse[1]\n",
    "print({\"ATE_IPTW\": round(ate,4), \"SE\": round(se,4), \"N\": len(df_trim)})"
   ]
  },
  {
   "cell_type": "code",
   "execution_count": 8,
   "id": "fb97b9e4-20c3-497f-851f-c1763075be97",
   "metadata": {},
   "outputs": [
    {
     "name": "stdout",
     "output_type": "stream",
     "text": [
      "{'ATE_AIPW': 0.0009}\n"
     ]
    }
   ],
   "source": [
    "# Doubly-robust AIPW (adds outcome models)\n",
    "\n",
    "# outcome models P(Y=1|X,T)\n",
    "clf_t = RandomForestClassifier(n_estimators=50, random_state=42, n_jobs=-1)\n",
    "clf_c = RandomForestClassifier(n_estimators=50, random_state=42, n_jobs=-1)\n",
    "\n",
    "Xt = df_trim.loc[df_trim.treatment==1, covars].values\n",
    "Xc = df_trim.loc[df_trim.treatment==0, covars].values\n",
    "yt = df_trim.loc[df_trim.treatment==1, \"conversion\"].values\n",
    "yc = df_trim.loc[df_trim.treatment==0, \"conversion\"].values\n",
    "\n",
    "clf_t.fit(Xt, yt); clf_c.fit(Xc, yc)\n",
    "\n",
    "mu1 = clf_t.predict_proba(df_trim[covars].values)[:,1]\n",
    "mu0 = clf_c.predict_proba(df_trim[covars].values)[:,1]\n",
    "\n",
    "ps = df_trim[\"ps\"].values\n",
    "Y = df_trim[\"conversion\"].values\n",
    "T = df_trim[\"treatment\"].values\n",
    "\n",
    "term_t = T*(Y-mu1)/np.clip(ps,1e-6,1-1e-6) + mu1\n",
    "term_c = (1-T)*(Y-mu0)/np.clip(1-ps,1e-6,1-1e-6) + mu0\n",
    "ate_aipw = (term_t - term_c).mean()\n",
    "\n",
    "print({\"ATE_AIPW\": round(ate_aipw,4)})"
   ]
  },
  {
   "cell_type": "code",
   "execution_count": 9,
   "id": "5b56f96d-05cd-4171-9904-45ab7a40db8a",
   "metadata": {},
   "outputs": [
    {
     "name": "stdout",
     "output_type": "stream",
     "text": [
      "{'ATT_match': 0.0009, 'treated_n': 11882655}\n"
     ]
    }
   ],
   "source": [
    "# 1-NN matching on propensity (ATT)\n",
    "\n",
    "from sklearn.neighbors import NearestNeighbors\n",
    "dft = df_trim.sort_values(\"ps\").reset_index(drop=True)\n",
    "ti = dft.index[dft.treatment==1]\n",
    "ci = dft.index[dft.treatment==0]\n",
    "\n",
    "nn = NearestNeighbors(n_neighbors=1).fit(dft.loc[ci, [\"ps\"]].values)\n",
    "_, idx = nn.kneighbors(dft.loc[ti, [\"ps\"]].values)\n",
    "matched_c = ci[idx.ravel()]\n",
    "att = (dft.loc[ti, \"conversion\"].values - dft.loc[matched_c, \"conversion\"].values).mean()\n",
    "print({\"ATT_match\": round(att,4), \"treated_n\": len(ti)})"
   ]
  },
  {
   "cell_type": "code",
   "execution_count": 10,
   "id": "a338c658-4cad-4267-a90a-b7c7498307da",
   "metadata": {},
   "outputs": [
    {
     "name": "stdout",
     "output_type": "stream",
     "text": [
      "Avg CATE: 0.001\n",
      "Policy treat rate (top 20% CATE): 0.9798987953393017\n"
     ]
    },
    {
     "data": {
      "image/png": "[encoded data removed]",
      "text/plain": [
       "<Figure size 640x480 with 1 Axes>"
      ]
     },
     "metadata": {},
     "output_type": "display_data"
    }
   ],
   "source": [
    "# Hetrogeneous effects (T-learner on probabilities)\n",
    "\n",
    "train, test = train_test_split(df_trim, test_size=0.3, random_state=42, stratify=df_trim[\"treatment\"])\n",
    "X1 = train.loc[train.treatment==1, covars]; y1 = train.loc[train.treatment==1, \"conversion\"]\n",
    "X0 = train.loc[train.treatment==0, covars]; y0 = train.loc[train.treatment==0, \"conversion\"]\n",
    "\n",
    "m1 = RandomForestClassifier(n_estimators=50, random_state=42, n_jobs=-1).fit(X1, y1)\n",
    "m0 = RandomForestClassifier(n_estimators=50, random_state=42, n_jobs=-1).fit(X0, y0)\n",
    "\n",
    "p1 = m1.predict_proba(test[covars])[:,1]\n",
    "p0 = m0.predict_proba(test[covars])[:,1]\n",
    "cate = p1 - p0\n",
    "\n",
    "print(\"Avg CATE:\", round(cate.mean(),4))\n",
    "thr = np.quantile(cate, 0.8)\n",
    "policy = (cate>=thr).astype(int)\n",
    "print(\"Policy treat rate (top 20% CATE):\", policy.mean())\n",
    "\n",
    "plt.figure(); plt.hist(cate, bins=10); plt.title(\"Estimated CATE\"); plt.show()"
   ]
  },
  {
   "cell_type": "code",
   "execution_count": 11,
   "id": "135de47d-486d-4667-810c-4fa3cc7a8dc9",
   "metadata": {},
   "outputs": [
    {
     "data": {
      "image/png": "[encoded data removed]",
      "text/plain": [
       "<Figure size 640x480 with 1 Axes>"
      ]
     },
     "metadata": {},
     "output_type": "display_data"
    }
   ],
   "source": [
    "# Simple uplift curve by deciles\n",
    "\n",
    "dec = pd.qcut(cate, 10, labels=False, duplicates=\"drop\")\n",
    "tmp = pd.DataFrame({\"dec\": dec, \"y\": test[\"conversion\"].values, \"t\": test[\"treatment\"].values})\n",
    "curve = []\n",
    "cum = 0.0\n",
    "for d in sorted(tmp.dec.unique()):\n",
    "    g = tmp[tmp.dec==d]\n",
    "    lift = g[g.t==1].y.mean() - g[g.t==0].y.mean()\n",
    "    cum += lift\n",
    "    curve.append(cum)\n",
    "\n",
    "plt.figure(); plt.plot(range(1,len(curve)+1), curve, marker=\"o\"); \n",
    "plt.title(\"Cumulative uplift by decile\"); plt.xlabel(\"Decile rank\"); plt.ylabel(\"Cumulative uplift\"); plt.show()"
   ]
  },
  {
   "cell_type": "code",
   "execution_count": 12,
   "id": "f4ac9e7f-6526-4092-a441-295ac8cff813",
   "metadata": {},
   "outputs": [
    {
     "name": "stdout",
     "output_type": "stream",
     "text": [
      "==============================================================================\n",
      "                 coef    std err          z      P>|z|      [0.025      0.975]\n",
      "------------------------------------------------------------------------------\n",
      "Intercept     -0.2810      0.008    -34.336      0.000      -0.297      -0.265\n",
      "exp_hat        0.0282      0.001     28.393      0.000       0.026       0.030\n",
      "f0          2.792e-05   4.28e-06      6.520      0.000    1.95e-05    3.63e-05\n",
      "f1             0.0032      0.001      4.901      0.000       0.002       0.004\n",
      "f2            -0.0010   6.76e-05    -14.308      0.000      -0.001      -0.001\n",
      "f3         -1.993e-06   3.97e-05     -0.050      0.960   -7.99e-05    7.59e-05\n",
      "f4             0.0391      0.000     81.072      0.000       0.038       0.040\n",
      "f5            -0.0012      0.000     -5.555      0.000      -0.002      -0.001\n",
      "f6         -1.697e-05   6.34e-06     -2.678      0.007   -2.94e-05   -4.55e-06\n",
      "f7            -0.0002   5.42e-05     -4.515      0.000      -0.000      -0.000\n",
      "f8            -0.0036      0.001     -5.680      0.000      -0.005      -0.002\n",
      "f9             0.0002   6.63e-06     22.974      0.000       0.000       0.000\n",
      "f10           -0.0347      0.001    -65.295      0.000      -0.036      -0.034\n",
      "f11           -0.3339      0.006    -55.192      0.000      -0.346      -0.322\n",
      "==============================================================================\n",
      "LATE (coef on exp_hat): 0.0282\n"
     ]
    }
   ],
   "source": [
    "# IV (2-stage) for noncompliance using exposure if present\n",
    "\n",
    "if \"exposure\" in df.columns:\n",
    "    df_iv = df.copy().dropna(subset=[\"exposure\"])\n",
    "    for c in [\"treatment\",\"exposure\",\"conversion\"]:\n",
    "        df_iv[c] = df_iv[c].astype(int)\n",
    "\n",
    "    # First stage: exposure ~ treatment + X\n",
    "    fs = smf.ols(\"exposure ~ treatment + \" + \" + \".join(covars), data=df_iv).fit(cov_type=\"HC1\")\n",
    "    df_iv[\"exp_hat\"] = fs.fittedvalues\n",
    "\n",
    "    # Second stage: conversion ~ exp_hat + X (linear probability model)\n",
    "    ss = smf.ols(\"conversion ~ exp_hat + \" + \" + \".join(covars), data=df_iv).fit(cov_type=\"HC1\")\n",
    "    print(ss.summary().tables[1])\n",
    "    print(\"LATE (coef on exp_hat):\", round(ss.params[\"exp_hat\"],4))\n",
    "else:\n",
    "    print(\"No 'exposure' column → skipping IV.\")"
   ]
  },
  {
   "cell_type": "code",
   "execution_count": 13,
   "id": "c39b8f48-251c-4617-ba04-0e55166b616c",
   "metadata": {},
   "outputs": [
    {
     "name": "stdout",
     "output_type": "stream",
     "text": [
      "{'Gamma_1.0': 0.0009, 'Gamma_1.25': 0.0009, 'Gamma_1.5': 0.0009, 'Gamma_2.0': 0.0009}\n",
      "{'ATE': 0.0009, 'Incr_conversions': 467, 'Incr_$': 4673.43}\n"
     ]
    }
   ],
   "source": [
    "# Sensitivity sketch and business readout\n",
    "\n",
    "# crude Γ scan: perturb PS to mimic hidden bias\n",
    "Gammas = [1.0, 1.25, 1.5, 2.0]\n",
    "ates = []\n",
    "ps0 = df_trim[\"ps\"].values.copy()\n",
    "for G in Gammas:\n",
    "    adj = np.clip(ps0*G/(ps0*G + (1-ps0)), 1e-6, 1-1e-6)\n",
    "    sw_adj = np.where(df_trim.treatment==1, p_t/adj, (1-p_t)/(1-adj))\n",
    "    resG = sm.WLS(df_trim[\"conversion\"], sm.add_constant(df_trim[\"treatment\"]), weights=sw_adj).fit(cov_type=\"HC1\")\n",
    "    ates.append(resG.params[1])\n",
    "print({f\"Gamma_{g}\": round(a,4) for g,a in zip(Gammas, ates)})\n",
    "\n",
    "def business_readout(ate, population=1_000_000, value_per_conv=5.0):\n",
    "    incr_conversions = ate * population\n",
    "    incr_value = incr_conversions * value_per_conv\n",
    "    return {\"ATE\": round(ate,4), \"Incr_conversions\": int(incr_conversions), \"Incr_$\": round(incr_value,2)}\n",
    "\n",
    "print(business_readout(ate, population=500_000, value_per_conv=10.0))"
   ]
  }
 ],
 "metadata": {
  "kernelspec": {
   "display_name": "Python [conda env:base] *",
   "language": "python",
   "name": "conda-base-py"
  },
  "language_info": {
   "codemirror_mode": {
    "name": "ipython",
    "version": 3
   },
   "file_extension": ".py",
   "mimetype": "text/x-python",
   "name": "python",
   "nbconvert_exporter": "python",
   "pygments_lexer": "ipython3",
   "version": "3.12.7"
  }
 },
 "nbformat": 4,
 "nbformat_minor": 5
}
